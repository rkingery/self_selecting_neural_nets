{
 "cells": [
  {
   "cell_type": "code",
   "execution_count": 2,
   "metadata": {},
   "outputs": [
    {
     "name": "stderr",
     "output_type": "stream",
     "text": [
      "/home/paperspace/anaconda3/envs/fastai/lib/python3.6/site-packages/h5py/__init__.py:36: FutureWarning: Conversion of the second argument of issubdtype from `float` to `np.floating` is deprecated. In future, it will be treated as `np.float64 == np.dtype(float).type`.\n",
      "  from ._conv import register_converters as _register_converters\n",
      "Using TensorFlow backend.\n"
     ]
    },
    {
     "data": {
      "text/plain": [
       "<torch._C.Generator at 0x7f99b0a365d0>"
      ]
     },
     "execution_count": 2,
     "metadata": {},
     "output_type": "execute_result"
    }
   ],
   "source": [
    "import matplotlib.pyplot as plt\n",
    "import numpy as np\n",
    "from sklearn.metrics import accuracy_score\n",
    "from scipy.signal import lfilter\n",
    "import time\n",
    "from tqdm import tqdm\n",
    "\n",
    "import torch\n",
    "import torch.nn as nn\n",
    "import torch.nn.functional as F\n",
    "import torch.optim as optim\n",
    "from torch.optim import lr_scheduler\n",
    "from torch.autograd import Variable\n",
    "\n",
    "import tensorflow as tf\n",
    "from keras.models import Sequential\n",
    "from keras.layers import Dense, Activation\n",
    "from keras.optimizers import SGD\n",
    "from keras import backend as K\n",
    "\n",
    "from ss_perf_utils import *\n",
    "\n",
    "np.random.seed(2)\n",
    "torch.manual_seed(2)"
   ]
  },
  {
   "cell_type": "code",
   "execution_count": 3,
   "metadata": {},
   "outputs": [],
   "source": [
    "def train_numpy(X,y,layer_dims,num_iters,lr,add_del=False):\n",
    "    sigmoid = lambda z : 1./(1+np.exp(-z))\n",
    "    \n",
    "    din,dh,dout = tuple(layer_dims)\n",
    "    m = X.shape[1]\n",
    "    delta,prob,epsilon,max_hidden_size,tau = init_add_del()\n",
    "    losses = []\n",
    "    num_neurons = []\n",
    "    \n",
    "    W1 = np.random.randn(dh,din)\n",
    "    b1 = np.random.randn(dh,1)\n",
    "    W2 = np.random.randn(dout,dh)\n",
    "    b2 = np.random.randn(dout,1)\n",
    "    \n",
    "    for t in range(num_iters):\n",
    "        # Forwardprop\n",
    "        Z1 = np.dot(W1,X)+b1\n",
    "        A = Z1.clip(min=0) # relu\n",
    "        Z2 = np.dot(W2,A)+b2\n",
    "        yhat = sigmoid(Z2).clip(1e-6,1.-1e-6)\n",
    "    \n",
    "        loss = 1./m*(-np.dot(y,np.log(yhat).T)-np.dot(1-y,np.log(1-yhat).T))\n",
    "        loss = loss.squeeze().item()\n",
    "        losses.append(loss)\n",
    "    \n",
    "        # Backprop\n",
    "        dyhat = -(np.divide(y,yhat) - np.divide(1-y, 1-yhat))\n",
    "        dZ2 = dyhat*sigmoid(Z2)*(1-sigmoid(Z2))\n",
    "        dW2 = 1./m*np.dot(dZ2,A.T)\n",
    "        db2 = 1./m*np.sum(dZ2,1,keepdims=True)\n",
    "        dA = np.dot(W2.T,dZ2)\n",
    "        dZ1 = dA\n",
    "        dZ1[Z1 < 0] = 0\n",
    "        dW1 = 1./m*np.dot(dZ1,X.T)\n",
    "        db1 = 1./m*np.sum(dZ1,1,keepdims=True)\n",
    "    \n",
    "        # gradient descent\n",
    "        W1 -= lr*dW1\n",
    "        b1 -= lr*db1\n",
    "        W2 -= lr*dW2\n",
    "        b2 -= lr*db2\n",
    "\n",
    "        if add_del and t>tau:\n",
    "            W1,b1,W2,b2 = delete_neurons_numpy(W1,b1,W2,b2,delta,prob)\n",
    "            W1,b1,W2,b2 = add_neurons_numpy(W1,b1,W2,b2,losses,epsilon,delta,\n",
    "                                              max_hidden_size,tau,prob)\n",
    "        num_neurons.append(b1.shape[0])\n",
    "\n",
    "        if 0==1:#t % max(1,num_iters // 20) == 0:\n",
    "            print('loss after iteration %i: %f' % (t, losses[-1]))\n",
    "            if add_del:\n",
    "                print('# neurons after iteration %i: %d' % (t, num_neurons[-1]))\n",
    "    \n",
    "    return losses,num_neurons"
   ]
  },
  {
   "cell_type": "code",
   "execution_count": 4,
   "metadata": {},
   "outputs": [],
   "source": [
    "def train_pytorch(X,y,layer_dims,num_iters,lr,device,dtype,add_del=False):\n",
    "    sigmoid = lambda z : 1./(1+torch.exp(-z))\n",
    "    \n",
    "    din,dh,dout = tuple(layer_dims)\n",
    "    m = X.shape[1]\n",
    "    delta,prob,epsilon,max_hidden_size,tau = init_add_del()\n",
    "    losses = []\n",
    "    num_neurons = []\n",
    "    \n",
    "    W1 = torch.randn(dh, din, dtype=dtype, requires_grad=False, device=device)\n",
    "    b1 = torch.randn(dh, 1, dtype=dtype, requires_grad=False, device=device)\n",
    "    W2 = torch.randn(dout, dh, dtype=dtype, requires_grad=False, device=device)\n",
    "    b2 = torch.randn(dout, 1, dtype=dtype, requires_grad=False, device=device)\n",
    "    \n",
    "    for t in range(num_iters):\n",
    "        # Forwardprop\n",
    "        Z1 = torch.mm(W1,X)+b1\n",
    "        A = Z1.clamp(min=0) # relu\n",
    "        Z2 = torch.mm(W2,A)+b2\n",
    "        yhat = sigmoid(Z2).clamp(1e-6,1.-1e-6)\n",
    "    \n",
    "        criterion = nn.BCELoss()\n",
    "        loss = criterion(yhat,y)\n",
    "        loss = loss.squeeze_().item()\n",
    "        losses.append(loss)\n",
    "    \n",
    "        # Backprop\n",
    "        dyhat = -(torch.div(y,yhat) - torch.div(1-y, 1-yhat))\n",
    "        dZ2 = dyhat*sigmoid(Z2)*(1-sigmoid(Z2))\n",
    "        dW2 = 1./m*torch.mm(dZ2,A.t())\n",
    "        db2 = 1./m*torch.sum(dZ2,1,keepdim=True)\n",
    "        dA = torch.mm(W2.t(),dZ2)\n",
    "        dZ1 = dA\n",
    "        dZ1[Z1 < 0] = 0\n",
    "        dW1 = 1./m*torch.mm(dZ1,X.t())\n",
    "        db1 = 1./m*torch.sum(dZ1,1,keepdim=True)\n",
    "    \n",
    "        # gradient descent\n",
    "        W1 -= lr*dW1\n",
    "        b1 -= lr*db1\n",
    "        W2 -= lr*dW2\n",
    "        b2 -= lr*db2\n",
    "\n",
    "        if add_del and t>tau:\n",
    "            W1,b1,W2,b2 = delete_neurons_pytorch(W1,b1,W2,b2,delta,prob)\n",
    "            W1,b1,W2,b2 = add_neurons_pytorch(W1,b1,W2,b2,losses,epsilon,delta,max_hidden_size,tau,prob,device)\n",
    "        num_neurons.append(b1.shape[0])\n",
    "\n",
    "        if 0==1:#t % max(1,num_iters // 20) == 0:\n",
    "            print('loss after iteration %i: %f' % (t, losses[-1]))\n",
    "            if add_del:\n",
    "                print('# neurons after iteration %i: %d' % (t, num_neurons[-1]))\n",
    "    \n",
    "    return losses,num_neurons"
   ]
  },
  {
   "cell_type": "code",
   "execution_count": 5,
   "metadata": {},
   "outputs": [],
   "source": [
    "def train_tensorflow(X,y,layer_dims,num_iters,lr):\n",
    "    din,dh,dout = tuple(layer_dims)\n",
    "    m = X.shape[0]\n",
    "    delta,prob,epsilon,max_hidden_size,tau = init_add_del()\n",
    "    losses = []\n",
    "    num_neurons = []\n",
    "    \n",
    "    model = Sequential()\n",
    "    model.add(Dense(dh, activation='relu', input_dim=din))\n",
    "    model.add(Dense(dout, activation='sigmoid'))\n",
    "    sgd = SGD(lr=lr, decay=1., momentum=0., nesterov=False)\n",
    "    model.compile(loss='binary_crossentropy',optimizer=sgd)\n",
    "    model.fit(X, y, epochs=num_iters, batch_size=y.shape[0], verbose=0)\n",
    "    \n",
    "    return losses,num_neurons"
   ]
  },
  {
   "cell_type": "code",
   "execution_count": 6,
   "metadata": {},
   "outputs": [],
   "source": [
    "num_runs = 100\n",
    "num_iters = 1000\n",
    "num_samples = 10000\n",
    "num_features = 2\n",
    "num_hidden = 10\n",
    "num_classes = 1\n",
    "lr = 0.1\n",
    "layer_dims = [num_features,num_hidden,num_classes]\n",
    "\n",
    "X,y,x1,x2 = gen_data(samples=num_samples,var=0.01)"
   ]
  },
  {
   "cell_type": "code",
   "execution_count": 7,
   "metadata": {},
   "outputs": [
    {
     "name": "stderr",
     "output_type": "stream",
     "text": [
      "\r",
      "  0%|          | 0/100 [00:00<?, ?it/s]"
     ]
    },
    {
     "name": "stdout",
     "output_type": "stream",
     "text": [
      "numpy starting\n"
     ]
    },
    {
     "name": "stderr",
     "output_type": "stream",
     "text": [
      "100%|██████████| 100/100 [03:06<00:00,  1.86s/it]"
     ]
    },
    {
     "name": "stdout",
     "output_type": "stream",
     "text": [
      "numpy finished\n"
     ]
    },
    {
     "name": "stderr",
     "output_type": "stream",
     "text": [
      "\n"
     ]
    }
   ],
   "source": [
    "X_np = X.T\n",
    "y_np = y.reshape(1,-1)\n",
    "\n",
    "times_np = []\n",
    "print('numpy starting')\n",
    "for run in tqdm(range(num_runs)):\n",
    "    tin = time.clock()\n",
    "    losses,num_neurons = train_numpy(X_np,y_np,layer_dims,num_iters,lr,add_del=False)\n",
    "    tout = time.clock()\n",
    "    times_np.append(tout-tin)\n",
    "print('numpy finished')"
   ]
  },
  {
   "cell_type": "code",
   "execution_count": 8,
   "metadata": {},
   "outputs": [
    {
     "name": "stderr",
     "output_type": "stream",
     "text": [
      "\r",
      "  0%|          | 0/100 [00:00<?, ?it/s]"
     ]
    },
    {
     "name": "stdout",
     "output_type": "stream",
     "text": [
      "pytorch cpu starting\n"
     ]
    },
    {
     "name": "stderr",
     "output_type": "stream",
     "text": [
      "100%|██████████| 100/100 [09:19<00:00,  5.60s/it]"
     ]
    },
    {
     "name": "stdout",
     "output_type": "stream",
     "text": [
      "pytorch cpu finished\n"
     ]
    },
    {
     "name": "stderr",
     "output_type": "stream",
     "text": [
      "\n"
     ]
    }
   ],
   "source": [
    "device = torch.device('cpu')\n",
    "dtype = torch.float\n",
    "\n",
    "X_pt = torch.tensor(X,device=device,dtype=dtype).t()\n",
    "y_pt = torch.tensor(y,device=device,dtype=dtype).reshape(1,-1)\n",
    "\n",
    "\n",
    "times_pt_cpu = []\n",
    "print('pytorch cpu starting')\n",
    "for run in tqdm(range(num_runs)):\n",
    "    tin = time.clock()\n",
    "    losses,num_neurons = train_pytorch(X_pt,y_pt,layer_dims,num_iters,lr,device,dtype,add_del=False)\n",
    "    tout = time.clock()\n",
    "    times_pt_cpu.append(tout-tin)\n",
    "print('pytorch cpu finished')"
   ]
  },
  {
   "cell_type": "code",
   "execution_count": 9,
   "metadata": {},
   "outputs": [
    {
     "name": "stderr",
     "output_type": "stream",
     "text": [
      "\r",
      "  0%|          | 0/100 [00:00<?, ?it/s]"
     ]
    },
    {
     "name": "stdout",
     "output_type": "stream",
     "text": [
      "pytorch gpu starting\n"
     ]
    },
    {
     "name": "stderr",
     "output_type": "stream",
     "text": [
      "100%|██████████| 100/100 [01:35<00:00,  1.05it/s]"
     ]
    },
    {
     "name": "stdout",
     "output_type": "stream",
     "text": [
      "pytorch gpu finished\n"
     ]
    },
    {
     "name": "stderr",
     "output_type": "stream",
     "text": [
      "\n"
     ]
    }
   ],
   "source": [
    "device = torch.device('cuda:0')\n",
    "dtype = torch.float\n",
    "\n",
    "X_pt = torch.tensor(X,device=device,dtype=dtype).t()\n",
    "y_pt = torch.tensor(y,device=device,dtype=dtype).reshape(1,-1)\n",
    "\n",
    "\n",
    "times_pt_gpu = []\n",
    "print('pytorch gpu starting')\n",
    "for run in tqdm(range(num_runs)):\n",
    "    tin = time.clock()\n",
    "    losses,num_neurons = train_pytorch(X_pt,y_pt,layer_dims,num_iters,lr,device,dtype,add_del=False)\n",
    "    tout = time.clock()\n",
    "    times_pt_gpu.append(tout-tin)\n",
    "print('pytorch gpu finished')"
   ]
  },
  {
   "cell_type": "code",
   "execution_count": 10,
   "metadata": {},
   "outputs": [
    {
     "name": "stderr",
     "output_type": "stream",
     "text": [
      "\r",
      "  0%|          | 0/100 [00:00<?, ?it/s]"
     ]
    },
    {
     "name": "stdout",
     "output_type": "stream",
     "text": [
      "tensorflow starting\n",
      "WARNING:tensorflow:Variable *= will be deprecated. Use variable.assign_mul if you want assignment to the variable value or 'x = x * y' if you want a new python Tensor object.\n"
     ]
    },
    {
     "name": "stderr",
     "output_type": "stream",
     "text": [
      "100%|██████████| 100/100 [12:14<00:00,  7.35s/it]"
     ]
    },
    {
     "name": "stdout",
     "output_type": "stream",
     "text": [
      "tensorflow finished\n"
     ]
    },
    {
     "name": "stderr",
     "output_type": "stream",
     "text": [
      "\n"
     ]
    }
   ],
   "source": [
    "X_tf = X\n",
    "y_tf = y\n",
    "\n",
    "times_tf = []\n",
    "print('tensorflow starting')\n",
    "for run in tqdm(range(num_runs)):\n",
    "    tin = time.clock()\n",
    "    losses,num_neurons = train_tensorflow(X_tf,y_tf,layer_dims,num_iters,lr)\n",
    "    tout = time.clock()\n",
    "    times_tf.append(tout-tin)\n",
    "print('tensorflow finished')"
   ]
  },
  {
   "cell_type": "code",
   "execution_count": 11,
   "metadata": {},
   "outputs": [
    {
     "data": {
      "image/png": "[encoded data removed]",
      "text/plain": [
       "<Figure size 432x288 with 1 Axes>"
      ]
     },
     "metadata": {},
     "output_type": "display_data"
    }
   ],
   "source": [
    "plt.hist(times_np)\n",
    "plt.title('numpy times')\n",
    "plt.show()"
   ]
  },
  {
   "cell_type": "code",
   "execution_count": 12,
   "metadata": {},
   "outputs": [
    {
     "data": {
      "image/png": "[encoded data removed]",
      "text/plain": [
       "<Figure size 432x288 with 1 Axes>"
      ]
     },
     "metadata": {},
     "output_type": "display_data"
    }
   ],
   "source": [
    "plt.hist(times_pt_cpu)\n",
    "plt.title('pytorch cpu times')\n",
    "plt.show()"
   ]
  },
  {
   "cell_type": "code",
   "execution_count": 13,
   "metadata": {},
   "outputs": [
    {
     "data": {
      "image/png": "[encoded data removed]",
      "text/plain": [
       "<Figure size 432x288 with 1 Axes>"
      ]
     },
     "metadata": {},
     "output_type": "display_data"
    }
   ],
   "source": [
    "plt.hist(times_pt_gpu)\n",
    "plt.title('pytorch gpu times')\n",
    "plt.show()"
   ]
  },
  {
   "cell_type": "code",
   "execution_count": 14,
   "metadata": {},
   "outputs": [
    {
     "data": {
      "image/png": "[encoded data removed]",
      "text/plain": [
       "<Figure size 432x288 with 1 Axes>"
      ]
     },
     "metadata": {},
     "output_type": "display_data"
    }
   ],
   "source": [
    "plt.hist(times_tf)\n",
    "plt.title('tensorflow cpu times')\n",
    "plt.show()"
   ]
  },
  {
   "cell_type": "code",
   "execution_count": 18,
   "metadata": {},
   "outputs": [
    {
     "data": {
      "image/png": "[encoded data removed]",
      "text/plain": [
       "<Figure size 432x288 with 1 Axes>"
      ]
     },
     "metadata": {},
     "output_type": "display_data"
    }
   ],
   "source": [
    "bins = np.linspace(0, 70, 100)\n",
    "\n",
    "plt.hist(times_np, bins, alpha=0.5, label='np')\n",
    "plt.hist(times_pt_cpu, bins, alpha=0.5, label='pt cpu')\n",
    "plt.hist(times_pt_gpu, bins, alpha=0.5, label='pt gpu')\n",
    "plt.hist(times_tf, bins, alpha=0.5, label='tf cpu')\n",
    "plt.legend(loc='upper right')\n",
    "plt.xlabel('runtime (sec)')\n",
    "plt.title('runtime histograms')\n",
    "plt.show()"
   ]
  },
  {
   "cell_type": "code",
   "execution_count": 20,
   "metadata": {},
   "outputs": [
    {
     "name": "stdout",
     "output_type": "stream",
     "text": [
      "14.882525349999995\n",
      "44.74946808999998\n",
      "0.9522656399999505\n",
      "10.37390341999997\n"
     ]
    }
   ],
   "source": [
    "print(np.mean(times_np))\n",
    "print(np.mean(times_pt_cpu))\n",
    "print(np.mean(times_pt_gpu))\n",
    "print(np.mean(times_tf))"
   ]
  },
  {
   "cell_type": "code",
   "execution_count": null,
   "metadata": {},
   "outputs": [],
   "source": []
  }
 ],
 "metadata": {
  "kernelspec": {
   "display_name": "Python 3",
   "language": "python",
   "name": "python3"
  },
  "language_info": {
   "codemirror_mode": {
    "name": "ipython",
    "version": 3
   },
   "file_extension": ".py",
   "mimetype": "text/x-python",
   "name": "python",
   "nbconvert_exporter": "python",
   "pygments_lexer": "ipython3",
   "version": "3.6.5"
  }
 },
 "nbformat": 4,
 "nbformat_minor": 2
}
